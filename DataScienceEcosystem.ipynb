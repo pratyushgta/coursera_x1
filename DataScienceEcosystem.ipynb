{
  "nbformat": 4,
  "nbformat_minor": 0,
  "metadata": {
    "colab": {
      "provenance": []
    },
    "kernelspec": {
      "name": "python3",
      "display_name": "Python 3"
    },
    "language_info": {
      "name": "python"
    }
  },
  "cells": [
    {
      "cell_type": "markdown",
      "source": [
        "# Data Science Tools and Ecosystem"
      ],
      "metadata": {
        "id": "zo3nUSCWLnVW"
      }
    },
    {
      "cell_type": "markdown",
      "source": [
        "In this notebook, Data Science Tools and Ecosystem are summarized."
      ],
      "metadata": {
        "id": "GMk2g7qfL9R8"
      }
    },
    {
      "cell_type": "markdown",
      "metadata": {
        "id": "9cb3a658"
      },
      "source": [
        "Some of the popular languages that Data Scientists use are:\n",
        "1. Python\n",
        "2. R\n",
        "3. SQL"
      ]
    },
    {
      "cell_type": "markdown",
      "metadata": {
        "id": "31a1f2b9"
      },
      "source": [
        "Some of the commonly used libraries used by Data Scientists include:\n",
        "1. TensorFlow\n",
        "2. NumPy\n",
        "3. SciPy"
      ]
    },
    {
      "cell_type": "markdown",
      "metadata": {
        "id": "c225ead5"
      },
      "source": [
        "| Data Science Tools |\n",
        "| --- |\n",
        "| Jupyter Notebook |\n",
        "| RStudio |\n",
        "| Spyder |"
      ]
    },
    {
      "cell_type": "markdown",
      "metadata": {
        "id": "853d4fe6"
      },
      "source": [
        "### Below are a few examples of evaluating arithmetic expressions in Python"
      ]
    },
    {
      "cell_type": "code",
      "metadata": {
        "colab": {
          "base_uri": "https://localhost:8080/"
        },
        "id": "4e120e98",
        "outputId": "e4148d11-d4e3-421d-9cfc-05e08924ceea"
      },
      "source": [
        "(3*4)+5"
      ],
      "execution_count": 3,
      "outputs": [
        {
          "output_type": "execute_result",
          "data": {
            "text/plain": [
              "17"
            ]
          },
          "metadata": {},
          "execution_count": 3
        }
      ]
    },
    {
      "cell_type": "code",
      "metadata": {
        "colab": {
          "base_uri": "https://localhost:8080/"
        },
        "id": "f24c1f53",
        "outputId": "3641bb68-d5f7-4f08-9b8b-e6296ddd4e62"
      },
      "source": [
        "# 200 minutes to hours by diving by 60.\n",
        "200/60"
      ],
      "execution_count": 5,
      "outputs": [
        {
          "output_type": "execute_result",
          "data": {
            "text/plain": [
              "3.3333333333333335"
            ]
          },
          "metadata": {},
          "execution_count": 5
        }
      ]
    },
    {
      "cell_type": "markdown",
      "metadata": {
        "id": "0f9ad66b"
      },
      "source": [
        "**Objectives:**\n",
        "* List popular languages for Data Science\n",
        "* List popular libraries for Data Science\n",
        "* List popular tools for Data Science\n",
        "* Provide examples of arithmetic expressions in Python"
      ]
    },
    {
      "cell_type": "markdown",
      "metadata": {
        "id": "c07ebdfa"
      },
      "source": [
        "## Author\n",
        "Ansh Maheshwari"
      ]
    }
  ]
}